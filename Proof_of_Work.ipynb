{
  "nbformat": 4,
  "nbformat_minor": 0,
  "metadata": {
    "colab": {
      "name": "Proof of Work.ipynb",
      "provenance": [],
      "collapsed_sections": [],
      "authorship_tag": "ABX9TyMYQ6fLjBDeEyBgqRMQSC4D"
    },
    "kernelspec": {
      "name": "python3",
      "display_name": "Python 3"
    },
    "language_info": {
      "name": "python"
    }
  },
  "cells": [
    {
      "cell_type": "code",
      "metadata": {
        "colab": {
          "base_uri": "https://localhost:8080/"
        },
        "id": "7iIwBxz7xYwL",
        "outputId": "910dd087-3dea-4d94-f084-cbf744046d19"
      },
      "source": [
        "import hashlib # imports library with SHA-256 hashing algo\n",
        "import datetime # imports library to track time\n",
        "t1 = datetime.datetime.now() # start time\n",
        "nonce = 1 # Starts the nonce at 1\n",
        "solution = False\n",
        "while solution == False: # loop until true\n",
        "    ourhash = hashlib.sha256(str(nonce).encode()).hexdigest() # inputs nonce into hash function\n",
        "    if ourhash[:7] == '0000000': # look for hash with 7 proceeding zeros\n",
        "        solution =True # those who find the solution will have 'proved' they put in 'work'\n",
        "    nonce +=1 # increase nonce by 1 and try again\n",
        "t2 = datetime.datetime.now() # end time\n",
        "duration = t2 - t1 # time elapsed\n",
        "print (\"The hash is:\",ourhash)\n",
        "print (\"The nonce is:\",nonce)    \n",
        "print (\"Time elapsed:\",duration)"
      ],
      "execution_count": 7,
      "outputs": [
        {
          "output_type": "stream",
          "name": "stdout",
          "text": [
            "The hash is: 0000000399c6aea5ad0c709a9bc331a3ed6494702bd1d129d8c817a0257a1462\n",
            "The nonce is: 665783\n",
            "Time elapsed: 0:00:00.968694\n"
          ]
        }
      ]
    },
    {
      "cell_type": "code",
      "metadata": {
        "colab": {
          "base_uri": "https://localhost:8080/"
        },
        "id": "1qapQ_bL8Rnk",
        "outputId": "17c4af8b-186d-403e-9239-0cfeaf7cb3cb"
      },
      "source": [
        "import hashlib # imports library with SHA-256 hashing algo\n",
        "import datetime # imports library to track time\n",
        "t1 = datetime.datetime.now() # start time\n",
        "nonce = 1 # Starts the nonce at 1\n",
        "solution = False\n",
        "while solution == False: # loop until true\n",
        "    ourhash = hashlib.sha256(str(nonce).encode()).hexdigest() # inputs nonce into hash function\n",
        "    if ourhash[:8] == '00000000': # look for hash with 7 proceeding zeros\n",
        "        solution =True # those who find the solution will have 'proved' they put in 'work'\n",
        "    nonce +=1 # increase nonce by 1 and try again\n",
        "t2 = datetime.datetime.now() # end time\n",
        "duration = t2 - t1 # time elapsed\n",
        "print (\"The hash is:\",ourhash)\n",
        "print (\"The nonce is:\",nonce)    \n",
        "print (\"Time elapsed:\",duration)"
      ],
      "execution_count": 6,
      "outputs": [
        {
          "output_type": "stream",
          "name": "stdout",
          "text": [
            "The hash is: 00000000690ed426ccf17803ebe2bd0884bcd58a1bb5e7477ead3645f356e7a9\n",
            "The nonce is: 426479725\n",
            "Time elapsed: 0:10:11.313807\n"
          ]
        }
      ]
    }
  ]
}